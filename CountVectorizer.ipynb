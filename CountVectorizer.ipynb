{
  "nbformat": 4,
  "nbformat_minor": 0,
  "metadata": {
    "colab": {
      "provenance": [],
      "authorship_tag": "ABX9TyPvJwgNFAbxVliYpfERoomo",
      "include_colab_link": true
    },
    "kernelspec": {
      "name": "python3",
      "display_name": "Python 3"
    },
    "language_info": {
      "name": "python"
    }
  },
  "cells": [
    {
      "cell_type": "markdown",
      "metadata": {
        "id": "view-in-github",
        "colab_type": "text"
      },
      "source": [
        "<a href=\"https://colab.research.google.com/github/saribasmetehan/CountVectorizer/blob/main/CountVectorizer.ipynb\" target=\"_parent\"><img src=\"https://colab.research.google.com/assets/colab-badge.svg\" alt=\"Open In Colab\"/></a>"
      ]
    },
    {
      "cell_type": "code",
      "execution_count": 1,
      "metadata": {
        "id": "K1NeF_A1PRhd"
      },
      "outputs": [],
      "source": [
        "import pandas as pd\n",
        "import numpy as np\n",
        "from sklearn.feature_extraction.text import CountVectorizer"
      ]
    },
    {
      "cell_type": "code",
      "source": [
        "cumleler = [\n",
        "  \"Makine öğrenimi veri bilimi ve veri analizi için gereklidir.\",\n",
        "  \"Veri bilimi projelerinde veri temizleme ve veri analizi önemlidir.\",\n",
        "  \"Veri analizi, veri bilimi ve makine öğrenimi için temel bir adımdır.\",\n",
        "  \"Veri temizleme ve veri analizi, veri bilimi projelerinde önemli bir rol oynar.\",\n",
        "  \"Veri bilimi ve makine öğrenimi projelerinde veri analizi sıkça kullanılır.\"\n",
        "  ]"
      ],
      "metadata": {
        "id": "PU8dH_X2R5So"
      },
      "execution_count": 16,
      "outputs": []
    },
    {
      "cell_type": "code",
      "source": [
        "vectorizer = CountVectorizer()"
      ],
      "metadata": {
        "id": "KBPZlBsVS7zA"
      },
      "execution_count": 17,
      "outputs": []
    },
    {
      "cell_type": "code",
      "source": [
        "# Listeyi kelime-frekans matrisine dönüştürmek\n",
        "\n",
        "X = vectorizer.fit_transform(cumleler)"
      ],
      "metadata": {
        "id": "a34CMPvYS8c3"
      },
      "execution_count": 18,
      "outputs": []
    },
    {
      "cell_type": "code",
      "source": [
        "# Matristeki olarak kullanılan tüm benzersiz kelimeleri almak\n",
        "\n",
        "feature_names = vectorizer.get_feature_names_out()"
      ],
      "metadata": {
        "id": "kzvMv_cjUFPf"
      },
      "execution_count": 19,
      "outputs": []
    },
    {
      "cell_type": "code",
      "source": [
        "feature_names"
      ],
      "metadata": {
        "colab": {
          "base_uri": "https://localhost:8080/"
        },
        "id": "MjX1KK91UQyn",
        "outputId": "b2972cf7-3971-49f2-f32e-ddfafe7bdedb"
      },
      "execution_count": 20,
      "outputs": [
        {
          "output_type": "execute_result",
          "data": {
            "text/plain": [
              "array(['adımdır', 'analizi', 'bilimi', 'bir', 'gereklidir', 'için',\n",
              "       'kullanılır', 'makine', 'oynar', 'projelerinde', 'rol', 'sıkça',\n",
              "       'temel', 'temizleme', 've', 'veri', 'önemli', 'önemlidir',\n",
              "       'öğrenimi'], dtype=object)"
            ]
          },
          "metadata": {},
          "execution_count": 20
        }
      ]
    },
    {
      "cell_type": "code",
      "source": [
        "# Matrisi (sparse matrix) array formatına dönüştürmek ve görüntülemek\n",
        "X.toarray()"
      ],
      "metadata": {
        "colab": {
          "base_uri": "https://localhost:8080/"
        },
        "id": "IdpueDy0UbeG",
        "outputId": "f90cee85-75ed-4af0-bc5d-4524214d8c14"
      },
      "execution_count": 21,
      "outputs": [
        {
          "output_type": "execute_result",
          "data": {
            "text/plain": [
              "array([[0, 1, 1, 0, 1, 1, 0, 1, 0, 0, 0, 0, 0, 0, 1, 2, 0, 0, 1],\n",
              "       [0, 1, 1, 0, 0, 0, 0, 0, 0, 1, 0, 0, 0, 1, 1, 3, 0, 1, 0],\n",
              "       [1, 1, 1, 1, 0, 1, 0, 1, 0, 0, 0, 0, 1, 0, 1, 2, 0, 0, 1],\n",
              "       [0, 1, 1, 1, 0, 0, 0, 0, 1, 1, 1, 0, 0, 1, 1, 3, 1, 0, 0],\n",
              "       [0, 1, 1, 0, 0, 0, 1, 1, 0, 1, 0, 1, 0, 0, 1, 2, 0, 0, 1]])"
            ]
          },
          "metadata": {},
          "execution_count": 21
        }
      ]
    },
    {
      "cell_type": "code",
      "source": [
        "# Bazı metrikleri deniyorum\n",
        "# Features sayısını 5 ile sınırladım\n",
        "vectorizer_5 = CountVectorizer(max_features=)"
      ],
      "metadata": {
        "id": "y4iR1UdhVWDg"
      },
      "execution_count": 22,
      "outputs": []
    },
    {
      "cell_type": "code",
      "source": [
        "Y = vectorizer_5.fit_transform(cumleler)\n",
        "feature_names_5 = vectorizer_5.get_feature_names_out()\n",
        "\n",
        "feature_names_5"
      ],
      "metadata": {
        "colab": {
          "base_uri": "https://localhost:8080/"
        },
        "id": "WbA8PrQYZkdQ",
        "outputId": "2d917150-448c-4096-ad59-3b7aa8816ebd"
      },
      "execution_count": 23,
      "outputs": [
        {
          "output_type": "execute_result",
          "data": {
            "text/plain": [
              "array(['analizi', 'bilimi', 'projelerinde', 've', 'veri'], dtype=object)"
            ]
          },
          "metadata": {},
          "execution_count": 23
        }
      ]
    },
    {
      "cell_type": "code",
      "source": [
        "Y.toarray()"
      ],
      "metadata": {
        "colab": {
          "base_uri": "https://localhost:8080/"
        },
        "id": "bAxiXpuzZ-pP",
        "outputId": "45d8d13e-674c-4020-a922-9a31da5feb97"
      },
      "execution_count": 24,
      "outputs": [
        {
          "output_type": "execute_result",
          "data": {
            "text/plain": [
              "array([[1, 1, 0, 1, 2],\n",
              "       [1, 1, 1, 1, 3],\n",
              "       [1, 1, 0, 1, 2],\n",
              "       [1, 1, 1, 1, 3],\n",
              "       [1, 1, 1, 1, 2]])"
            ]
          },
          "metadata": {},
          "execution_count": 24
        }
      ]
    },
    {
      "cell_type": "code",
      "source": [
        "# Cümleyi hem tekli grup (Unigram) hem de iki kelimelik grup (Bigram) şeklinde değerlindiriyorum\n",
        "\n",
        "vectorizer_bigram = CountVectorizer(ngram_range=(1,2))"
      ],
      "metadata": {
        "id": "bsRa_-aea0OA"
      },
      "execution_count": 31,
      "outputs": []
    },
    {
      "cell_type": "code",
      "source": [
        "Z = vectorizer_bigram.fit_transform(cumleler)\n",
        "feature_bigram = vectorizer_bigram.get_feature_names_out()\n",
        "\n",
        "feature_bigram"
      ],
      "metadata": {
        "colab": {
          "base_uri": "https://localhost:8080/"
        },
        "id": "jpPU8QXJb9kH",
        "outputId": "f089c36a-c214-4f7e-99d6-a76dd078c8a7"
      },
      "execution_count": 32,
      "outputs": [
        {
          "output_type": "execute_result",
          "data": {
            "text/plain": [
              "array(['adımdır', 'analizi', 'analizi için', 'analizi sıkça',\n",
              "       'analizi veri', 'analizi önemlidir', 'bilimi',\n",
              "       'bilimi projelerinde', 'bilimi ve', 'bir', 'bir adımdır',\n",
              "       'bir rol', 'gereklidir', 'için', 'için gereklidir', 'için temel',\n",
              "       'kullanılır', 'makine', 'makine öğrenimi', 'oynar', 'projelerinde',\n",
              "       'projelerinde veri', 'projelerinde önemli', 'rol', 'rol oynar',\n",
              "       'sıkça', 'sıkça kullanılır', 'temel', 'temel bir', 'temizleme',\n",
              "       'temizleme ve', 've', 've makine', 've veri', 'veri',\n",
              "       'veri analizi', 'veri bilimi', 'veri temizleme', 'önemli',\n",
              "       'önemli bir', 'önemlidir', 'öğrenimi', 'öğrenimi için',\n",
              "       'öğrenimi projelerinde', 'öğrenimi veri'], dtype=object)"
            ]
          },
          "metadata": {},
          "execution_count": 32
        }
      ]
    },
    {
      "cell_type": "code",
      "source": [
        "Z.toarray()"
      ],
      "metadata": {
        "colab": {
          "base_uri": "https://localhost:8080/"
        },
        "id": "hOyw1m-5cPU3",
        "outputId": "a9a189b4-dc79-4f57-8450-3c314ea536bf"
      },
      "execution_count": 33,
      "outputs": [
        {
          "output_type": "execute_result",
          "data": {
            "text/plain": [
              "array([[0, 1, 1, 0, 0, 0, 1, 0, 1, 0, 0, 0, 1, 1, 1, 0, 0, 1, 1, 0, 0, 0,\n",
              "        0, 0, 0, 0, 0, 0, 0, 0, 0, 1, 0, 1, 2, 1, 1, 0, 0, 0, 0, 1, 0, 0,\n",
              "        1],\n",
              "       [0, 1, 0, 0, 0, 1, 1, 1, 0, 0, 0, 0, 0, 0, 0, 0, 0, 0, 0, 0, 1, 1,\n",
              "        0, 0, 0, 0, 0, 0, 0, 1, 1, 1, 0, 1, 3, 1, 1, 1, 0, 0, 1, 0, 0, 0,\n",
              "        0],\n",
              "       [1, 1, 0, 0, 1, 0, 1, 0, 1, 1, 1, 0, 0, 1, 0, 1, 0, 1, 1, 0, 0, 0,\n",
              "        0, 0, 0, 0, 0, 1, 1, 0, 0, 1, 1, 0, 2, 1, 1, 0, 0, 0, 0, 1, 1, 0,\n",
              "        0],\n",
              "       [0, 1, 0, 0, 1, 0, 1, 1, 0, 1, 0, 1, 0, 0, 0, 0, 0, 0, 0, 1, 1, 0,\n",
              "        1, 1, 1, 0, 0, 0, 0, 1, 1, 1, 0, 1, 3, 1, 1, 1, 1, 1, 0, 0, 0, 0,\n",
              "        0],\n",
              "       [0, 1, 0, 1, 0, 0, 1, 0, 1, 0, 0, 0, 0, 0, 0, 0, 1, 1, 1, 0, 1, 1,\n",
              "        0, 0, 0, 1, 1, 0, 0, 0, 0, 1, 1, 0, 2, 1, 1, 0, 0, 0, 0, 1, 0, 1,\n",
              "        0]])"
            ]
          },
          "metadata": {},
          "execution_count": 33
        }
      ]
    }
  ]
}